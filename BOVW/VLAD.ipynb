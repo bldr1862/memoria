{
 "cells": [
  {
   "cell_type": "code",
   "execution_count": 1,
   "metadata": {
    "collapsed": true
   },
   "outputs": [],
   "source": [
    "import numpy as np\n",
    "import cv2 as cv\n",
    "import os\n",
    "\n",
    "from tqdm import tqdm"
   ]
  },
  {
   "cell_type": "code",
   "execution_count": 2,
   "metadata": {
    "collapsed": true
   },
   "outputs": [],
   "source": [
    "def getFiles(PATH):\n",
    "    _files = []\n",
    "    for root, dirs, files in os.walk(PATH):\n",
    "        for fichero in files:\n",
    "            name, extension = os.path.splitext(fichero)\n",
    "            if extension == \".jpg\":\n",
    "                _files.append(os.path.join(PATH,fichero))\n",
    "    return _files"
   ]
  },
  {
   "cell_type": "code",
   "execution_count": 3,
   "metadata": {
    "collapsed": true
   },
   "outputs": [],
   "source": [
    "centers = np.load('centers.npy')\n",
    "n_centers = centers.shape[0]"
   ]
  },
  {
   "cell_type": "code",
   "execution_count": 4,
   "metadata": {
    "collapsed": true
   },
   "outputs": [],
   "source": [
    "ficheros= getFiles('.//..//..//MSCOCO//train2014')"
   ]
  },
  {
   "cell_type": "code",
   "execution_count": 5,
   "metadata": {},
   "outputs": [
    {
     "name": "stderr",
     "output_type": "stream",
     "text": [
      " 78%|███████▊  | 64948/82783 [5:43:31<1:34:19,  3.15it/s]C:\\Users\\bldr1\\Anaconda3\\lib\\site-packages\\ipykernel_launcher.py:22: RuntimeWarning: invalid value encountered in true_divide\n",
      "100%|██████████| 82783/82783 [7:18:41<00:00,  3.15it/s]  \n"
     ]
    }
   ],
   "source": [
    "N_SAVE = 1000\n",
    "sift = cv.xfeatures2d.SIFT_create()\n",
    "VLAD_DESCRIPTORS = []\n",
    "\n",
    "i=1\n",
    "for fichero in tqdm(ficheros):\n",
    "    img = cv.imread(fichero)\n",
    "    img = cv.resize(img,(224,224))\n",
    "    gray= cv.cvtColor(img,cv.COLOR_BGR2GRAY)\n",
    "    kp, des = sift.detectAndCompute(gray,None)\n",
    "    VLAD = np.zeros((n_centers,128))\n",
    "    \n",
    "    if des is not None:\n",
    "    \n",
    "        for d in des:\n",
    "            local_dist = []\n",
    "            for c in centers:\n",
    "                local_dist.append( np.sqrt(np.sum(np.square(d-c))) )\n",
    "            idx = np.where(local_dist == np.min(local_dist))[0][0]\n",
    "            VLAD[idx] = VLAD[idx] + d-c[idx]\n",
    "    \n",
    "    VLAD_DESCRIPTORS.append(VLAD.reshape(1,-1)/np.sqrt(np.sum(np.square(VLAD.reshape(1,-1)))))\n",
    "    \n",
    "    if i%N_SAVE == 0:\n",
    "        VLAD_DESCRIPTORS = np.asarray(VLAD_DESCRIPTORS)\n",
    "        np.save('vlad_descriptors//vlad_{}'.format(int(i/N_SAVE)), VLAD_DESCRIPTORS)\n",
    "        VLAD_DESCRIPTORS = []\n",
    "    \n",
    "    i = i+1\n",
    "    "
   ]
  },
  {
   "cell_type": "code",
   "execution_count": 6,
   "metadata": {
    "collapsed": true
   },
   "outputs": [],
   "source": [
    "np.save('vlad_descriptors//vlad_end',VLAD_DESCRIPTORS)"
   ]
  },
  {
   "cell_type": "code",
   "execution_count": null,
   "metadata": {
    "collapsed": true
   },
   "outputs": [],
   "source": []
  }
 ],
 "metadata": {
  "kernelspec": {
   "display_name": "Python 3",
   "language": "python",
   "name": "python3"
  },
  "language_info": {
   "codemirror_mode": {
    "name": "ipython",
    "version": 3
   },
   "file_extension": ".py",
   "mimetype": "text/x-python",
   "name": "python",
   "nbconvert_exporter": "python",
   "pygments_lexer": "ipython3",
   "version": "3.6.1"
  }
 },
 "nbformat": 4,
 "nbformat_minor": 2
}
