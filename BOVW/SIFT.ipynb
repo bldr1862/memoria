{
 "cells": [
  {
   "cell_type": "code",
   "execution_count": 1,
   "metadata": {
    "collapsed": true
   },
   "outputs": [],
   "source": [
    "import numpy as np\n",
    "import cv2 as cv\n",
    "import os\n",
    "import pickle\n",
    "from tqdm import tqdm\n",
    "\n",
    "from sklearn.cluster import KMeans"
   ]
  },
  {
   "cell_type": "code",
   "execution_count": 2,
   "metadata": {
    "collapsed": true
   },
   "outputs": [],
   "source": [
    "def getFiles(PATH):\n",
    "    _files = []\n",
    "    for root, dirs, files in os.walk(PATH):\n",
    "        for fichero in files:\n",
    "            name, extension = os.path.splitext(fichero)\n",
    "            if extension == \".jpg\":\n",
    "                _files.append(os.path.join(PATH,fichero))\n",
    "    return _files"
   ]
  },
  {
   "cell_type": "code",
   "execution_count": 3,
   "metadata": {
    "collapsed": true
   },
   "outputs": [],
   "source": [
    "def save_obj(obj, name ):\n",
    "    with open(name + '.pkl', 'wb') as f:\n",
    "        pickle.dump(obj, f, pickle.HIGHEST_PROTOCOL)"
   ]
  },
  {
   "cell_type": "code",
   "execution_count": 4,
   "metadata": {
    "collapsed": true
   },
   "outputs": [],
   "source": [
    "ficheros= getFiles('.//..//..//MSCOCO//train2014')"
   ]
  },
  {
   "cell_type": "code",
   "execution_count": 5,
   "metadata": {},
   "outputs": [
    {
     "name": "stderr",
     "output_type": "stream",
     "text": [
      "100%|██████████| 82783/82783 [1:21:14<00:00, 16.98it/s]\n"
     ]
    }
   ],
   "source": [
    "sift = cv.xfeatures2d.SIFT_create()\n",
    "N_SAVE = 1000\n",
    "local_descriptors = []\n",
    "\n",
    "i = 1\n",
    "for fichero in tqdm(ficheros):\n",
    "    img = cv.imread(fichero)\n",
    "    img = cv.resize(img,(224,224))\n",
    "    gray= cv.cvtColor(img,cv.COLOR_BGR2GRAY)\n",
    "    kp, des = sift.detectAndCompute(gray,None)\n",
    "    if des is not None:\n",
    "        local_descriptors.append( np.concatenate(des, axis = 0) )\n",
    "    if i%N_SAVE == 0:\n",
    "            local_descriptors = np.concatenate(local_descriptors, axis = 0).reshape(-1,128)\n",
    "            np.save('sift_descriptors//sift_{}'.format(int(i/N_SAVE)), local_descriptors)\n",
    "            local_descriptors = []\n",
    "    i = i+1\n",
    "\n",
    "\n",
    "local_descriptors = np.concatenate(local_descriptors, axis = 0).reshape(-1,128)    \n",
    "np.save('sift_descriptors//sift_end', local_descriptors)"
   ]
  },
  {
   "cell_type": "code",
   "execution_count": null,
   "metadata": {
    "collapsed": true
   },
   "outputs": [],
   "source": [
    "des"
   ]
  },
  {
   "cell_type": "code",
   "execution_count": null,
   "metadata": {
    "collapsed": true
   },
   "outputs": [],
   "source": [
    "kp"
   ]
  },
  {
   "cell_type": "code",
   "execution_count": null,
   "metadata": {
    "collapsed": true
   },
   "outputs": [],
   "source": [
    "ficheros[64948]"
   ]
  },
  {
   "cell_type": "code",
   "execution_count": null,
   "metadata": {
    "collapsed": true
   },
   "outputs": [],
   "source": [
    "a = cv.imread(ficheros[64948])\n",
    "a = cv.resize(a,(224,224))\n",
    "b = cv.cvtColor(a,cv.COLOR_BGR2GRAY)\n",
    "kp, des = sift.detectAndCompute(b,None)"
   ]
  },
  {
   "cell_type": "code",
   "execution_count": null,
   "metadata": {
    "collapsed": true
   },
   "outputs": [],
   "source": [
    "des"
   ]
  },
  {
   "cell_type": "markdown",
   "metadata": {},
   "source": [
    "### KMEANS"
   ]
  },
  {
   "cell_type": "code",
   "execution_count": null,
   "metadata": {
    "collapsed": true
   },
   "outputs": [],
   "source": [
    "vectors = np.load('sift_descriptors/sift_1.npy')"
   ]
  },
  {
   "cell_type": "code",
   "execution_count": null,
   "metadata": {
    "collapsed": true
   },
   "outputs": [],
   "source": [
    "kmeans = KMeans(n_clusters=10, max_iter=1, precompute_distances=True ,random_state=0)\n",
    "kmeans.fit(vectors)"
   ]
  },
  {
   "cell_type": "code",
   "execution_count": null,
   "metadata": {
    "collapsed": true
   },
   "outputs": [],
   "source": []
  }
 ],
 "metadata": {
  "kernelspec": {
   "display_name": "Python 3",
   "language": "python",
   "name": "python3"
  },
  "language_info": {
   "codemirror_mode": {
    "name": "ipython",
    "version": 3
   },
   "file_extension": ".py",
   "mimetype": "text/x-python",
   "name": "python",
   "nbconvert_exporter": "python",
   "pygments_lexer": "ipython3",
   "version": "3.6.1"
  }
 },
 "nbformat": 4,
 "nbformat_minor": 2
}
