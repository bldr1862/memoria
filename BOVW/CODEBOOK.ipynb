{
 "cells": [
  {
   "cell_type": "code",
   "execution_count": 1,
   "metadata": {
    "collapsed": true
   },
   "outputs": [],
   "source": [
    "import numpy as np\n",
    "import random\n",
    "import os\n",
    "import time\n",
    "\n",
    "from tqdm import tqdm\n",
    "from sklearn.cluster import KMeans"
   ]
  },
  {
   "cell_type": "code",
   "execution_count": 2,
   "metadata": {
    "collapsed": true
   },
   "outputs": [],
   "source": [
    "def getFiles(PATH, ext = '.npy'):\n",
    "    _files = []\n",
    "    for root, dirs, files in os.walk(PATH):\n",
    "        for fichero in files:\n",
    "            name, extension = os.path.splitext(fichero)\n",
    "            if extension == ext:\n",
    "                _files.append(os.path.join(PATH,fichero))\n",
    "    return _files"
   ]
  },
  {
   "cell_type": "code",
   "execution_count": 3,
   "metadata": {
    "collapsed": true
   },
   "outputs": [],
   "source": [
    "N_SAMPLES = 30000\n",
    "N_CLUSTERS = 60"
   ]
  },
  {
   "cell_type": "code",
   "execution_count": 4,
   "metadata": {},
   "outputs": [],
   "source": [
    "ficheros_sift = getFiles('sift_descriptors')"
   ]
  },
  {
   "cell_type": "code",
   "execution_count": 5,
   "metadata": {},
   "outputs": [
    {
     "name": "stderr",
     "output_type": "stream",
     "text": [
      "100%|██████████| 83/83 [01:42<00:00,  1.23s/it]\n"
     ]
    }
   ],
   "source": [
    "sift_kmeans = []\n",
    "for _dir in tqdm(ficheros_sift):\n",
    "    descriptors = np.load(_dir)\n",
    "    idxs = list(range(descriptors.shape[0]))\n",
    "    random.shuffle(idxs)\n",
    "    idxs = idxs[:N_SAMPLES]\n",
    "    sift_kmeans.append(descriptors[idxs])\n",
    "    \n",
    "sift_kmeans = np.asarray(sift_kmeans).reshape(-1,128)"
   ]
  },
  {
   "cell_type": "code",
   "execution_count": 6,
   "metadata": {},
   "outputs": [
    {
     "data": {
      "text/plain": [
       "(2490000, 128)"
      ]
     },
     "execution_count": 6,
     "metadata": {},
     "output_type": "execute_result"
    }
   ],
   "source": [
    "sift_kmeans.shape"
   ]
  },
  {
   "cell_type": "code",
   "execution_count": 7,
   "metadata": {},
   "outputs": [],
   "source": [
    "kmeans = KMeans(n_clusters=N_CLUSTERS, random_state=42)"
   ]
  },
  {
   "cell_type": "code",
   "execution_count": 8,
   "metadata": {},
   "outputs": [
    {
     "name": "stdout",
     "output_type": "stream",
     "text": [
      "20.34963876803716\n"
     ]
    }
   ],
   "source": [
    "s = time.time()\n",
    "kmeans.fit(descriptors)\n",
    "print((time.time() - s)/60)"
   ]
  },
  {
   "cell_type": "code",
   "execution_count": 9,
   "metadata": {
    "collapsed": true
   },
   "outputs": [],
   "source": [
    "np.save('centers.npy',kmeans.cluster_centers_)"
   ]
  },
  {
   "cell_type": "code",
   "execution_count": 10,
   "metadata": {},
   "outputs": [
    {
     "data": {
      "text/plain": [
       "array([[20.928995 , 23.596344 , 25.24059  , ..., 21.640745 , 31.397018 ,\n",
       "        22.872076 ],\n",
       "       [19.017244 , 14.519707 , 15.696522 , ...,  8.395466 ,  8.1819515,\n",
       "        17.658308 ],\n",
       "       [35.65465  , 30.648636 , 17.335459 , ...,  6.7938437,  5.54279  ,\n",
       "         9.024128 ],\n",
       "       ...,\n",
       "       [25.245823 , 26.49531  , 26.69663  , ..., 34.85285  , 54.931152 ,\n",
       "        27.609058 ],\n",
       "       [13.595604 ,  7.025955 ,  6.9105387, ...,  5.834873 ,  5.0213046,\n",
       "        10.488651 ],\n",
       "       [38.57593  , 20.34303  , 13.160626 , ..., 26.378824 ,  7.045182 ,\n",
       "         5.918932 ]], dtype=float32)"
      ]
     },
     "execution_count": 10,
     "metadata": {},
     "output_type": "execute_result"
    }
   ],
   "source": [
    "kmeans.cluster_centers_"
   ]
  },
  {
   "cell_type": "code",
   "execution_count": null,
   "metadata": {
    "collapsed": true
   },
   "outputs": [],
   "source": []
  }
 ],
 "metadata": {
  "kernelspec": {
   "display_name": "Python 3",
   "language": "python",
   "name": "python3"
  },
  "language_info": {
   "codemirror_mode": {
    "name": "ipython",
    "version": 3
   },
   "file_extension": ".py",
   "mimetype": "text/x-python",
   "name": "python",
   "nbconvert_exporter": "python",
   "pygments_lexer": "ipython3",
   "version": "3.6.1"
  }
 },
 "nbformat": 4,
 "nbformat_minor": 2
}
