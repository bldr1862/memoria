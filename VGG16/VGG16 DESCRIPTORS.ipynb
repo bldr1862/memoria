{
 "cells": [
  {
   "cell_type": "code",
   "execution_count": 1,
   "metadata": {},
   "outputs": [
    {
     "name": "stderr",
     "output_type": "stream",
     "text": [
      "C:\\Users\\bldr1\\Anaconda3\\lib\\site-packages\\h5py\\__init__.py:34: FutureWarning: Conversion of the second argument of issubdtype from `float` to `np.floating` is deprecated. In future, it will be treated as `np.float64 == np.dtype(float).type`.\n",
      "  from ._conv import register_converters as _register_converters\n",
      "Using TensorFlow backend.\n"
     ]
    }
   ],
   "source": [
    "import keras\n",
    "import numpy as np\n",
    "import os\n",
    "import time\n",
    "\n",
    "from tqdm import tqdm\n",
    "\n",
    "from keras.applications import vgg16\n",
    "from keras.applications.imagenet_utils import decode_predictions\n",
    "from keras.models import Model\n",
    "from keras.preprocessing import image\n",
    "from keras.applications.vgg16 import preprocess_input"
   ]
  },
  {
   "cell_type": "code",
   "execution_count": 2,
   "metadata": {
    "collapsed": true
   },
   "outputs": [],
   "source": [
    "def getFiles(PATH):\n",
    "    _files = []\n",
    "    for root, dirs, files in os.walk(PATH):\n",
    "        for fichero in files:\n",
    "            name, extension = os.path.splitext(fichero)\n",
    "            if extension == \".jpg\":\n",
    "                _files.append(os.path.join(PATH,fichero))\n",
    "    return _files"
   ]
  },
  {
   "cell_type": "code",
   "execution_count": 3,
   "metadata": {
    "collapsed": true
   },
   "outputs": [],
   "source": [
    "vgg_model = vgg16.VGG16(weights='imagenet', include_top=True)\n",
    "vgg_model = Model(inputs=vgg_model.input, outputs=vgg_model.get_layer('fc1').output)"
   ]
  },
  {
   "cell_type": "code",
   "execution_count": 4,
   "metadata": {
    "collapsed": true
   },
   "outputs": [],
   "source": [
    "ficheros= getFiles('.//..//..//MSCOCO//train2014')"
   ]
  },
  {
   "cell_type": "code",
   "execution_count": 5,
   "metadata": {},
   "outputs": [
    {
     "name": "stderr",
     "output_type": "stream",
     "text": [
      "100%|██████████| 82783/82783 [24:05:06<00:00,  1.05s/it]   \n"
     ]
    }
   ],
   "source": [
    "N_SAVE = 1000\n",
    "descriptors = []\n",
    "\n",
    "i=1\n",
    "for fichero in tqdm(ficheros):\n",
    "    img = image.load_img(fichero, target_size=(224, 224))\n",
    "    x = image.img_to_array(img)\n",
    "    x = np.expand_dims(x, axis=0)\n",
    "    x = preprocess_input(x)\n",
    "    \n",
    "    descriptor = vgg_model.predict(x)\n",
    "    descriptors.append(descriptor)\n",
    "        \n",
    "    if i%N_SAVE == 0:\n",
    "        descriptors = np.asarray(descriptors)\n",
    "        np.save('vgg_descriptors//vgg_{}'.format(int(i/N_SAVE)), descriptors)\n",
    "        descriptors = []\n",
    "        time.sleep(60)\n",
    "        \n",
    "    \n",
    "    i = i+1\n",
    "    \n",
    "descriptors = np.asarray(descriptors)\n",
    "np.save('vgg_descriptors//vgg_end', descriptors)"
   ]
  },
  {
   "cell_type": "code",
   "execution_count": 6,
   "metadata": {},
   "outputs": [
    {
     "data": {
      "text/plain": [
       "(1, 4096)"
      ]
     },
     "execution_count": 6,
     "metadata": {},
     "output_type": "execute_result"
    }
   ],
   "source": [
    "descriptor.shape"
   ]
  },
  {
   "cell_type": "code",
   "execution_count": null,
   "metadata": {
    "collapsed": true
   },
   "outputs": [],
   "source": []
  }
 ],
 "metadata": {
  "kernelspec": {
   "display_name": "Python 3",
   "language": "python",
   "name": "python3"
  },
  "language_info": {
   "codemirror_mode": {
    "name": "ipython",
    "version": 3
   },
   "file_extension": ".py",
   "mimetype": "text/x-python",
   "name": "python",
   "nbconvert_exporter": "python",
   "pygments_lexer": "ipython3",
   "version": "3.6.1"
  }
 },
 "nbformat": 4,
 "nbformat_minor": 2
}
